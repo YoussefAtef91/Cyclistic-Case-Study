{
 "cells": [
  {
   "cell_type": "code",
   "execution_count": 1,
   "id": "42a99c90",
   "metadata": {},
   "outputs": [],
   "source": [
    "import pandas as pd"
   ]
  },
  {
   "cell_type": "code",
   "execution_count": 3,
   "id": "20f8092c",
   "metadata": {},
   "outputs": [],
   "source": [
    "DATA_LOCATION = \"..//Data//Raw Data//\""
   ]
  },
  {
   "cell_type": "code",
   "execution_count": 4,
   "id": "6fb68a0e",
   "metadata": {},
   "outputs": [],
   "source": [
    "df1 = pd.read_csv(DATA_LOCATION+\"202112-divvy-tripdata.csv\")\n",
    "df2 = pd.read_csv(DATA_LOCATION+\"202201-divvy-tripdata.csv\")\n",
    "df3 = pd.read_csv(DATA_LOCATION+\"202202-divvy-tripdata.csv\")\n",
    "df4 = pd.read_csv(DATA_LOCATION+\"202203-divvy-tripdata.csv\")\n",
    "df5 = pd.read_csv(DATA_LOCATION+\"202204-divvy-tripdata.csv\")\n",
    "df6 = pd.read_csv(DATA_LOCATION+\"202205-divvy-tripdata.csv\")\n",
    "df7 = pd.read_csv(DATA_LOCATION+\"202206-divvy-tripdata.csv\")\n",
    "df8 = pd.read_csv(DATA_LOCATION+\"202207-divvy-tripdata.csv\")\n",
    "df9 = pd.read_csv(DATA_LOCATION+\"202208-divvy-tripdata.csv\")\n",
    "df10 = pd.read_csv(DATA_LOCATION+\"202209-divvy-publictripdata.csv\")\n",
    "df11 = pd.read_csv(DATA_LOCATION+\"202210-divvy-tripdata.csv\")\n",
    "df12 = pd.read_csv(DATA_LOCATION+\"202211-divvy-tripdata.csv\")"
   ]
  },
  {
   "cell_type": "code",
   "execution_count": 6,
   "id": "d76938ee",
   "metadata": {},
   "outputs": [],
   "source": [
    "df = pd.concat([df1,df2,df3,df4,df5,df6,df7,df8,df9,df10,df11,df12])"
   ]
  },
  {
   "cell_type": "code",
   "execution_count": 7,
   "id": "dfa87b5f",
   "metadata": {},
   "outputs": [
    {
     "data": {
      "text/plain": [
       "(5733451, 13)"
      ]
     },
     "execution_count": 7,
     "metadata": {},
     "output_type": "execute_result"
    }
   ],
   "source": [
    "df.shape"
   ]
  },
  {
   "cell_type": "code",
   "execution_count": 19,
   "id": "b8858d97",
   "metadata": {},
   "outputs": [],
   "source": [
    "df.to_csv(\"..//Data//Processed Datacyclistic.csv\")"
   ]
  },
  {
   "cell_type": "code",
   "execution_count": 20,
   "id": "10683b76",
   "metadata": {},
   "outputs": [
    {
     "data": {
      "text/plain": [
       "Index(['ride_id', 'rideable_type', 'started_at', 'ended_at',\n",
       "       'start_station_name', 'start_station_id', 'end_station_name',\n",
       "       'end_station_id', 'start_lat', 'start_lng', 'end_lat', 'end_lng',\n",
       "       'member_casual'],\n",
       "      dtype='object')"
      ]
     },
     "execution_count": 20,
     "metadata": {},
     "output_type": "execute_result"
    }
   ],
   "source": [
    "df.columns"
   ]
  },
  {
   "cell_type": "code",
   "execution_count": 23,
   "id": "7a54be8f",
   "metadata": {},
   "outputs": [
    {
     "data": {
      "text/html": [
       "<div>\n",
       "<style scoped>\n",
       "    .dataframe tbody tr th:only-of-type {\n",
       "        vertical-align: middle;\n",
       "    }\n",
       "\n",
       "    .dataframe tbody tr th {\n",
       "        vertical-align: top;\n",
       "    }\n",
       "\n",
       "    .dataframe thead th {\n",
       "        text-align: right;\n",
       "    }\n",
       "</style>\n",
       "<table border=\"1\" class=\"dataframe\">\n",
       "  <thead>\n",
       "    <tr style=\"text-align: right;\">\n",
       "      <th></th>\n",
       "      <th>ride_id</th>\n",
       "      <th>rideable_type</th>\n",
       "      <th>started_at</th>\n",
       "      <th>ended_at</th>\n",
       "      <th>start_station_name</th>\n",
       "      <th>start_station_id</th>\n",
       "      <th>end_station_name</th>\n",
       "      <th>end_station_id</th>\n",
       "      <th>start_lat</th>\n",
       "      <th>start_lng</th>\n",
       "      <th>end_lat</th>\n",
       "      <th>end_lng</th>\n",
       "      <th>member_casual</th>\n",
       "    </tr>\n",
       "  </thead>\n",
       "  <tbody>\n",
       "    <tr>\n",
       "      <th>131139</th>\n",
       "      <td>470AE184F8AF4881</td>\n",
       "      <td>classic_bike</td>\n",
       "      <td>2022-09-15 14:49:53</td>\n",
       "      <td>2022-09-15 14:58:50</td>\n",
       "      <td>Loomis St &amp; Lexington St</td>\n",
       "      <td>13332</td>\n",
       "      <td>Halsted St &amp; Polk St</td>\n",
       "      <td>TA1307000121</td>\n",
       "      <td>41.872187</td>\n",
       "      <td>-87.661501</td>\n",
       "      <td>41.87184</td>\n",
       "      <td>-87.64664</td>\n",
       "      <td>casual</td>\n",
       "    </tr>\n",
       "  </tbody>\n",
       "</table>\n",
       "</div>"
      ],
      "text/plain": [
       "                 ride_id rideable_type           started_at  \\\n",
       "131139  470AE184F8AF4881  classic_bike  2022-09-15 14:49:53   \n",
       "\n",
       "                   ended_at        start_station_name start_station_id  \\\n",
       "131139  2022-09-15 14:58:50  Loomis St & Lexington St            13332   \n",
       "\n",
       "            end_station_name end_station_id  start_lat  start_lng   end_lat  \\\n",
       "131139  Halsted St & Polk St   TA1307000121  41.872187 -87.661501  41.87184   \n",
       "\n",
       "         end_lng member_casual  \n",
       "131139 -87.64664        casual  "
      ]
     },
     "execution_count": 23,
     "metadata": {},
     "output_type": "execute_result"
    }
   ],
   "source": [
    "df.sample()"
   ]
  },
  {
   "cell_type": "code",
   "execution_count": 24,
   "id": "428357c6",
   "metadata": {},
   "outputs": [
    {
     "data": {
      "text/html": [
       "<div>\n",
       "<style scoped>\n",
       "    .dataframe tbody tr th:only-of-type {\n",
       "        vertical-align: middle;\n",
       "    }\n",
       "\n",
       "    .dataframe tbody tr th {\n",
       "        vertical-align: top;\n",
       "    }\n",
       "\n",
       "    .dataframe thead th {\n",
       "        text-align: right;\n",
       "    }\n",
       "</style>\n",
       "<table border=\"1\" class=\"dataframe\">\n",
       "  <thead>\n",
       "    <tr style=\"text-align: right;\">\n",
       "      <th></th>\n",
       "      <th>ride_id</th>\n",
       "      <th>rideable_type</th>\n",
       "      <th>started_at</th>\n",
       "      <th>ended_at</th>\n",
       "      <th>start_station_name</th>\n",
       "      <th>start_station_id</th>\n",
       "      <th>end_station_name</th>\n",
       "      <th>end_station_id</th>\n",
       "      <th>start_lat</th>\n",
       "      <th>start_lng</th>\n",
       "      <th>end_lat</th>\n",
       "      <th>end_lng</th>\n",
       "      <th>member_casual</th>\n",
       "    </tr>\n",
       "  </thead>\n",
       "  <tbody>\n",
       "    <tr>\n",
       "      <th>0</th>\n",
       "      <td>46F8167220E4431F</td>\n",
       "      <td>electric_bike</td>\n",
       "      <td>2021-12-07 15:06:07</td>\n",
       "      <td>2021-12-07 15:13:42</td>\n",
       "      <td>Laflin St &amp; Cullerton St</td>\n",
       "      <td>13307</td>\n",
       "      <td>Morgan St &amp; Polk St</td>\n",
       "      <td>TA1307000130</td>\n",
       "      <td>41.854833</td>\n",
       "      <td>-87.663660</td>\n",
       "      <td>41.871969</td>\n",
       "      <td>-87.650965</td>\n",
       "      <td>member</td>\n",
       "    </tr>\n",
       "    <tr>\n",
       "      <th>1</th>\n",
       "      <td>73A77762838B32FD</td>\n",
       "      <td>electric_bike</td>\n",
       "      <td>2021-12-11 03:43:29</td>\n",
       "      <td>2021-12-11 04:10:23</td>\n",
       "      <td>LaSalle Dr &amp; Huron St</td>\n",
       "      <td>KP1705001026</td>\n",
       "      <td>Clarendon Ave &amp; Leland Ave</td>\n",
       "      <td>TA1307000119</td>\n",
       "      <td>41.894405</td>\n",
       "      <td>-87.632331</td>\n",
       "      <td>41.967968</td>\n",
       "      <td>-87.650001</td>\n",
       "      <td>casual</td>\n",
       "    </tr>\n",
       "    <tr>\n",
       "      <th>2</th>\n",
       "      <td>4CF42452054F59C5</td>\n",
       "      <td>electric_bike</td>\n",
       "      <td>2021-12-15 23:10:28</td>\n",
       "      <td>2021-12-15 23:23:14</td>\n",
       "      <td>Halsted St &amp; North Branch St</td>\n",
       "      <td>KA1504000117</td>\n",
       "      <td>Broadway &amp; Barry Ave</td>\n",
       "      <td>13137</td>\n",
       "      <td>41.899357</td>\n",
       "      <td>-87.648522</td>\n",
       "      <td>41.937582</td>\n",
       "      <td>-87.644098</td>\n",
       "      <td>member</td>\n",
       "    </tr>\n",
       "    <tr>\n",
       "      <th>3</th>\n",
       "      <td>3278BA87BF698339</td>\n",
       "      <td>classic_bike</td>\n",
       "      <td>2021-12-26 16:16:10</td>\n",
       "      <td>2021-12-26 16:30:53</td>\n",
       "      <td>Halsted St &amp; North Branch St</td>\n",
       "      <td>KA1504000117</td>\n",
       "      <td>LaSalle Dr &amp; Huron St</td>\n",
       "      <td>KP1705001026</td>\n",
       "      <td>41.899390</td>\n",
       "      <td>-87.648545</td>\n",
       "      <td>41.894877</td>\n",
       "      <td>-87.632326</td>\n",
       "      <td>member</td>\n",
       "    </tr>\n",
       "    <tr>\n",
       "      <th>4</th>\n",
       "      <td>6FF54232576A3B73</td>\n",
       "      <td>electric_bike</td>\n",
       "      <td>2021-12-30 11:31:05</td>\n",
       "      <td>2021-12-30 11:51:21</td>\n",
       "      <td>Leavitt St &amp; Chicago Ave</td>\n",
       "      <td>18058</td>\n",
       "      <td>Clark St &amp; Drummond Pl</td>\n",
       "      <td>TA1307000142</td>\n",
       "      <td>41.895579</td>\n",
       "      <td>-87.682024</td>\n",
       "      <td>41.931248</td>\n",
       "      <td>-87.644336</td>\n",
       "      <td>member</td>\n",
       "    </tr>\n",
       "  </tbody>\n",
       "</table>\n",
       "</div>"
      ],
      "text/plain": [
       "            ride_id  rideable_type           started_at             ended_at  \\\n",
       "0  46F8167220E4431F  electric_bike  2021-12-07 15:06:07  2021-12-07 15:13:42   \n",
       "1  73A77762838B32FD  electric_bike  2021-12-11 03:43:29  2021-12-11 04:10:23   \n",
       "2  4CF42452054F59C5  electric_bike  2021-12-15 23:10:28  2021-12-15 23:23:14   \n",
       "3  3278BA87BF698339   classic_bike  2021-12-26 16:16:10  2021-12-26 16:30:53   \n",
       "4  6FF54232576A3B73  electric_bike  2021-12-30 11:31:05  2021-12-30 11:51:21   \n",
       "\n",
       "             start_station_name start_station_id            end_station_name  \\\n",
       "0      Laflin St & Cullerton St            13307         Morgan St & Polk St   \n",
       "1         LaSalle Dr & Huron St     KP1705001026  Clarendon Ave & Leland Ave   \n",
       "2  Halsted St & North Branch St     KA1504000117        Broadway & Barry Ave   \n",
       "3  Halsted St & North Branch St     KA1504000117       LaSalle Dr & Huron St   \n",
       "4      Leavitt St & Chicago Ave            18058      Clark St & Drummond Pl   \n",
       "\n",
       "  end_station_id  start_lat  start_lng    end_lat    end_lng member_casual  \n",
       "0   TA1307000130  41.854833 -87.663660  41.871969 -87.650965        member  \n",
       "1   TA1307000119  41.894405 -87.632331  41.967968 -87.650001        casual  \n",
       "2          13137  41.899357 -87.648522  41.937582 -87.644098        member  \n",
       "3   KP1705001026  41.899390 -87.648545  41.894877 -87.632326        member  \n",
       "4   TA1307000142  41.895579 -87.682024  41.931248 -87.644336        member  "
      ]
     },
     "execution_count": 24,
     "metadata": {},
     "output_type": "execute_result"
    }
   ],
   "source": [
    "df.head()"
   ]
  },
  {
   "cell_type": "code",
   "execution_count": 31,
   "id": "d954260d",
   "metadata": {},
   "outputs": [
    {
     "data": {
      "text/plain": [
       "ride_id                    0\n",
       "rideable_type              0\n",
       "started_at                 0\n",
       "ended_at                   0\n",
       "start_station_name    854844\n",
       "start_station_id      854844\n",
       "end_station_name      915082\n",
       "end_station_id        915082\n",
       "start_lat                  0\n",
       "start_lng                  0\n",
       "end_lat                 5874\n",
       "end_lng                 5874\n",
       "member_casual              0\n",
       "dtype: int64"
      ]
     },
     "execution_count": 31,
     "metadata": {},
     "output_type": "execute_result"
    }
   ],
   "source": [
    "df.isnull().sum()"
   ]
  },
  {
   "cell_type": "code",
   "execution_count": null,
   "id": "4489e0d4",
   "metadata": {},
   "outputs": [],
   "source": []
  }
 ],
 "metadata": {
  "kernelspec": {
   "display_name": "Python 3",
   "language": "python",
   "name": "python3"
  },
  "language_info": {
   "codemirror_mode": {
    "name": "ipython",
    "version": 3
   },
   "file_extension": ".py",
   "mimetype": "text/x-python",
   "name": "python",
   "nbconvert_exporter": "python",
   "pygments_lexer": "ipython3",
   "version": "3.8.8"
  }
 },
 "nbformat": 4,
 "nbformat_minor": 5
}
